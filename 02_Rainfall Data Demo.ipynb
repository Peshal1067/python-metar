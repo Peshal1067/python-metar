{
 "metadata": {
  "name": "02_Rainfall Data Demo"
 },
 "nbformat": 3,
 "nbformat_minor": 0,
 "worksheets": [
  {
   "cells": [
    {
     "cell_type": "markdown",
     "metadata": {},
     "source": "## Rainfall data acquisition and (rudimentary) analysis\n\n### First things first\nTo *run* (execute) a *cell* (block of code), use the play button in the header of this notebook. Running a cell will automatically move the focus to the next cell. You can click inside and run any cell in any order. But doing so might leave variables undefined, so it's best to run them in the order in which they are presented.\n\n### Scope\nThis notebook downloads, processes, and somewhat analyzes climate data from the NCDC's collection ASOS data.\n\nFor more information about ASOS data, visit http://www.nws.noaa.gov/asos/\n\n### What's really happening\nNCDC posts 5-min ASOS data on their ftp site. ftp://ftp.ncdc.noaa.gov/pub/data/asos-fivemin/\n\nData are stored in monthly files. Each observation is stored as a METAR string. It's a pretty nasty format. It looks like this:\n\n    KDEN 281950Z AUTO 11006KT 6SM HZ SCT080 15/12 A3013 RMK AO2 SLP123\n\nThe code downloads, parses, and compiles this data in a CSV file with the following columns:\n\n*   Observation station\n*   date/time of the observations\n*   Cumulative hourly precipitation (in)\n*   5-min precipitation intensity \n*   Temperature (degC)\n*   Dew point (degC)\n*   Wind speed (mph)\n*   Wind direction (deg)\n*   Atmospheric Pressure (hPa)\n\nThis notebook then reads that data into a dataframe can execute a (currently growing) variety of analyses.\n\nNote that the data will not be re-downloaded if they already exist on this notebook's server. I'm sure NCDC appreciates that and it saves you some computational time.\n\nSee http://www.wrh.noaa.gov/wrh/metar_decode_key.pdf for more info on the METAR data format\n\n### Instructions\n#### Step One\nRun the next cell and use the embedded FAA webpage to find an airport with an ASOS weather station (select your state and look for the grey markers)\n\n#### Step Two\nClick the grey marker you like and make note of its call sign (e.g., Portland is 'KPDX')\n\n#### Step Three\nIn the cell below the embedded webpage, define the variables `station_id`, `startdate`, and `enddate`. The variable `station_id` is the call sign for your station. Using Portland as an example, the cell should look like this:\n\n    station_id = 'KPDX'\n    startdate = '2000-1-1'\n    enddate = 'September 30, 2012'\n\nNote that you can mix the formats of the dates. The data analysis fairy knows what to do.\n\nRun that cell and follow the remaining instructions above the subsequent cells."
    },
    {
     "cell_type": "markdown",
     "metadata": {},
     "source": "#### Cell for Steps One and Two"
    },
    {
     "cell_type": "code",
     "collapsed": false,
     "input": "from __future__ import division\nimport os\nos.sys.path.append('sources/python-metar')\n\nimport metar.Station as Station\nreload(Station)\nimport matplotlib\nmatplotlib.rcParams['savefig.dpi'] = 144\nmatplotlib.rcParams['timezone'] = 'US/Pacific'\n\nimport matplotlib.pyplot as plt\nimport matplotlib.dates as mdates\nimport datetime\nimport pandas\nimport statsmodels.api as sm\nfrom IPython.display import HTML, Javascript, display, clear_output\nimport uuid, time\ndivid = str(uuid.uuid4())\n\nHTML('<iframe src=http://www.faa.gov/air_traffic/weather/asos/?state=OR width=700 height=500>')",
     "language": "python",
     "metadata": {},
     "outputs": [],
     "prompt_number": 1
    },
    {
     "cell_type": "markdown",
     "metadata": {},
     "source": "#### Cell for Step Three (analysis inputs here)"
    },
    {
     "cell_type": "code",
     "collapsed": false,
     "input": "station_id = 'KATL'\nstartdate = '2012-3-1'\nenddate = 'September 30, 2012'\n\ndef getASOSdata(sta, startdate, enddate):\n    errfile = open('%s.err' % station_id, 'a')\n    station = Station.station(station_id)\n    start = Station._parse_date(startdate)\n    end = Station._parse_date(enddate)\n    timestamps = pandas.DatetimeIndex(start=start, end=end, freq='MS')\n    data = None\n    N = len(timestamps)\n    for n, ts in enumerate(timestamps):\n        if data is None:\n            data = sta._read_csv(ts, errfile, 'asos')\n        else:\n            data = data.append(sta._read_csv(ts, errfile, 'asos'))\n        pc = (n+1)*100/N\n        clear_output()\n        print('%0.1f%% complete' % pc)\n            \n    errfile.close()\n    return dataKATL",
     "language": "python",
     "metadata": {},
     "outputs": [],
     "prompt_number": 2
    },
    {
     "cell_type": "markdown",
     "metadata": {},
     "source": "#### This is the cell that downloads, parses, and compiles data"
    },
    {
     "cell_type": "code",
     "collapsed": true,
     "input": "errfile = open('%s.err' % station_id, 'a')\nsta = Station.station(station_id)\ndata = getASOSdata(sta, startdate, enddate)\nerrfile.close()\ndata.columns",
     "language": "python",
     "metadata": {},
     "outputs": [],
     "prompt_number": 3
    },
    {
     "cell_type": "markdown",
     "metadata": {},
     "source": "#### Pull out the 5-minute rainfall data as a `TimeSeries` object"
    },
    {
     "cell_type": "code",
     "collapsed": false,
     "input": "rain = data['Precip5min']",
     "language": "python",
     "metadata": {},
     "outputs": [],
     "prompt_number": 10
    },
    {
     "cell_type": "markdown",
     "metadata": {},
     "source": "#### This cell plots 5-min, hourly, daily, and monthly rainfall depths"
    },
    {
     "cell_type": "code",
     "collapsed": false,
     "input": "# set up the figures\nfig, ((ax1, ax2), (ax3, ax4)) = plt.subplots(nrows=2, ncols=2)\n\n# 5-min\nrain.plot(ax=ax1)\nax1.set_xlabel('Date')\nax1.set_ylabel('5-min Rainfall\\nDepth (in)')\n\n# hourly\nhourlytotals = rain.resample(how='sum', rule='H')\nhourlytotals.fillna(value=0, inplace=True)\nhourlytotals.plot(ax=ax2)\nax2.set_xlabel('Date')\nax2.set_ylabel('Monthly Rainfall\\nDepth (in)')\n\n# daily\ndailytotals = rain.resample(how='sum', rule='D')\ndailytotals.fillna(value=0, inplace=True)\ndailytotals.plot(ax=ax3)\nax3.set_xlabel('Date')\nax3.set_ylabel('Daily Rainfall\\nDepth (in)')\n\n#montly\nmonthlytotals = rain.resample(how='sum', rule='M')\nmonthlytotals.fillna(value=0, inplace=True)\nmonthlytotals.plot(ax=ax4)\nax4.set_xlabel('Date')\nax4.set_ylabel('Monthly Rainfall\\nDepth (in)')\nfig.tight_layout()\n\nfor ax in [ax1, ax2, ax3, ax4]:\n    ax.tick_params(axis='x', labelsize=8)",
     "language": "python",
     "metadata": {},
     "outputs": [],
     "prompt_number": 11
    },
    {
     "cell_type": "markdown",
     "metadata": {},
     "source": "#### Probability plot of the daily totals"
    },
    {
     "cell_type": "code",
     "collapsed": true,
     "input": "fig, ax5 = plt.subplots(figsize=(7,3))\ndailypp = sm.ProbPlot(dailytotals, dist='norm')\ndailypp.probplot(ax=ax5, exceed=False)\nax5.set_yscale('log')\nax5.set_ylim([0.001, 10])\nax5.set_ylabel('Daily Total Rainfall (in)')\nax5.tick_params(axis='x', labelsize=8)",
     "language": "python",
     "metadata": {},
     "outputs": [],
     "prompt_number": 74
    },
    {
     "cell_type": "markdown",
     "metadata": {},
     "source": "#### Histogram of hourly totals"
    },
    {
     "cell_type": "code",
     "collapsed": false,
     "input": "fig, ax7 = plt.subplots()\nnumber_of_bins = 20\n#bar_width = hourlytotals.max()/number_of_bins\nperc_freq, bins = np.histogram(hourlytotals.dropna(), bins=np.logspace(-2.0, 0.3, 25), density=True)\nbar_width = bins[1:] - bins[:-1]\n\nax7.bar(bins[:-1], perc_freq, width=bar_width, bottom=10**-3, alpha=0.65, color='DodgerBlue')\nax7.set_yscale('log')\nax7.set_xscale('log')\nax7.set_xlabel('Hourly Rainfall Depth (in)')\nax7.set_ylabel('Relative Frequency')\nax7.xaxis.set_tick_params(direction='out', which='both')\nax7.yaxis.set_tick_params(direction='out', which='both')",
     "language": "python",
     "metadata": {},
     "outputs": [],
     "prompt_number": 75
    },
    {
     "cell_type": "code",
     "collapsed": false,
     "input": "",
     "language": "python",
     "metadata": {},
     "outputs": [],
     "prompt_number": 39
    },
    {
     "cell_type": "markdown",
     "metadata": {},
     "source": "#### Rainfall clock\nThis is a fun little function I wrote to show the relative probability that it might rain at any given time."
    },
    {
     "cell_type": "code",
     "collapsed": false,
     "input": "def rainClock(rainfall):\n    am_hours = np.arange(0, 12)\n    am_hours[0] = 12\n    rainhours = rainfall.index.hour\n    rain_by_hour = []\n    total_rain = rainfall.sum()\n    for hr in np.arange(24):\n        selector = (rainhours == hr)\n        total_depth = rainfall[selector].sum()\n        num_obervations = rainfall[selector].count()\n        rain_by_hour.append(total_depth/total_rain)\n\n    bar_width = 2*np.pi/12 * 0.8\n    fig, (ax1, ax2) = plt.subplots(nrows=1, ncols=2, figsize=(7,3), subplot_kw=dict(polar=True))\n    theta = np.arange(0.0, 2*np.pi, 2*np.pi/12)\n    am_bars = ax1.bar(theta + 2*np.pi/12 * 0.1, rain_by_hour[:12], bar_width, color='DodgerBlue', linewidth=0.5)\n    pm_bars = ax2.bar(theta + 2*np.pi/12 * 0.1, rain_by_hour[12:], bar_width, color='Crimson', linewidth=0.5)\n    ax1.set_title('AM Hours')\n    ax2.set_title('PM Hours')\n    for ax in [ax1, ax2]:\n        ax.set_theta_zero_location(\"N\")\n        ax.set_theta_direction('clockwise')\n        ax.set_xticks(theta)\n        ax.set_xticklabels(am_hours)\n        ax.set_yticklabels([])\n\n    return fig, (ax1, ax2)",
     "language": "python",
     "metadata": {},
     "outputs": [],
     "prompt_number": 125
    },
    {
     "cell_type": "code",
     "collapsed": false,
     "input": "def rainClock2(rainfall, n_bins):\n    hourly_rain = rainfall.resample(how='sum', rule='H')\n    max_hour_depth = hourly_rain.max()\n    rain_bins = [1.75, 0.50, 0.10, 0.05, 0.07]\n    \n    am_hours = np.arange(0, 12)\n    am_hours[0] = 12\n    \n    rainhours = rainfall.index.hour\n    bin_colors = ['c', 'k', 'g', 'b', 'r']\n    \n    fig, (ax1, ax2) = plt.subplots(nrows=1, ncols=2, figsize=(7,3), subplot_kw=dict(polar=True))\n    for n, (rb, color) in enumerate(zip(rain_bins, bin_colors)):\n        rain_by_hour = []\n        for hr in np.arange(24):\n            rain_selector = (rainfall <= rb)\n            hour_selector = (rainhours == hr)\n            tot_observations = float(rainfall[hour_selector].count())\n            num_observations = float(rainfall[(hour_selector & rain_selector)].count())\n            rain_by_hour.append(num_observations/tot_observations)\n\n        bar_width = 2*np.pi/12 * 0.8\n        theta = np.arange(0.0, 2*np.pi, 2*np.pi/12)\n        #am_bars = ax1.bar(theta + 2*np.pi/12 * 0.1, rain_by_hour[:12], bar_width, color=color, linewidth=0.5, zorder=n)\n        #pm_bars = ax2.bar(theta + 2*np.pi/12 * 0.1, rain_by_hour[12:], bar_width, color=color, linewidth=0.5, zorder=n)\n        am_bars = ax1.plot(theta, rain_by_hour[:12], ls='-', color=color, linewidth=0.5, zorder=n)\n        pm_bars = ax2.plot(theta, rain_by_hour[12:], ls='-', color=color, linewidth=0.5, zorder=n)\n    \n    ax1.set_title('AM Hours')\n    ax2.set_title('PM Hours')\n    for ax in [ax1, ax2]:\n        ax.set_theta_zero_location(\"N\")\n        ax.set_theta_direction('clockwise')\n        ax.set_xticks(theta)\n        ax.set_xticklabels(am_hours)\n        ax.set_yticklabels([])\n        \n\n    return fig, (ax1, ax2)",
     "language": "python",
     "metadata": {},
     "outputs": [],
     "prompt_number": 129
    },
    {
     "cell_type": "code",
     "collapsed": false,
     "input": "rain = data['Precip5min']\nfig, axes = rainClock(rain)\n",
     "language": "python",
     "metadata": {},
     "outputs": [],
     "prompt_number": 126
    },
    {
     "cell_type": "code",
     "collapsed": false,
     "input": "fig, axes = rainClock2(rain, 5)",
     "language": "python",
     "metadata": {},
     "outputs": [],
     "prompt_number": 130
    },
    {
     "cell_type": "markdown",
     "metadata": {},
     "source": "You can also select out data from a given month from all years"
    },
    {
     "cell_type": "code",
     "collapsed": false,
     "input": "months = rain.index.month\noctober_selector = (months == 10)\nfig, axes = rainClock(rain[october_selector])\nfig.suptitle('ATL in October', fontsize='18')",
     "language": "python",
     "metadata": {},
     "outputs": [],
     "prompt_number": 128
    },
    {
     "cell_type": "code",
     "collapsed": false,
     "input": "from __future__ import division\nrain.count()\nrain[rain == 0].count()/rain.count()",
     "language": "python",
     "metadata": {},
     "outputs": [],
     "prompt_number": 135
    },
    {
     "cell_type": "code",
     "collapsed": false,
     "input": "axN.set_rscale??",
     "language": "python",
     "metadata": {},
     "outputs": [],
     "prompt_number": 94
    },
    {
     "cell_type": "code",
     "collapsed": false,
     "input": "",
     "language": "python",
     "metadata": {},
     "outputs": []
    }
   ],
   "metadata": {}
  }
 ]
}