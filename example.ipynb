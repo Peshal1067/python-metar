{
 "metadata": {
  "name": "example"
 },
 "nbformat": 3,
 "nbformat_minor": 0,
 "worksheets": [
  {
   "cells": [
    {
     "cell_type": "markdown",
     "metadata": {},
     "source": [
      "## Rainfall data acquisition and (rudimentary) analysis\n",
      "\n",
      "### First things first\n",
      "To *run* (execute) a *cell* (block of code), use the play button in the header of this notebook. Running a cell will automatically move the focus to the next cell. You can click inside and run any cell in any order. But doing so might leave variables undefined, so it's best to run them in the order in which they are presented.\n",
      "\n",
      "### Scope\n",
      "This notebook downloads, processes, and somewhat analyzes climate data from the NCDC's collection ASOS data.\n",
      "\n",
      "For more information about ASOS data, visit http://www.nws.noaa.gov/asos/\n",
      "\n",
      "### What's really happening\n",
      "NCDC posts 5-min ASOS data on their ftp site. ftp://ftp.ncdc.noaa.gov/pub/data/asos-fivemin/\n",
      "\n",
      "Data are stored in monthly files. Each observation is stored as a METAR string. It's a pretty nasty format. It looks like this:\n",
      "\n",
      "    KDEN 281950Z AUTO 11006KT 6SM HZ SCT080 15/12 A3013 RMK AO2 SLP123\n",
      "\n",
      "The code downloads, parses, and compiles this data in a CSV file with the following columns:\n",
      "\n",
      "*   Observation station\n",
      "*   date/time of the observations\n",
      "*   Cumulative hourly precipitation (in)\n",
      "*   5-min precipitation intensity \n",
      "*   Temperature (degC)\n",
      "*   Dew point (degC)\n",
      "*   Wind speed (mph)\n",
      "*   Wind direction (deg)\n",
      "*   Atmospheric Pressure (hPa)\n",
      "\n",
      "This notebook then reads that data into a dataframe can execute a (currently growing) variety of analyses.\n",
      "\n",
      "Note that the data will not be re-downloaded if they already exist on this notebook's server. I'm sure NCDC appreciates that and it saves you some computational time.\n",
      "\n",
      "See http://www.wrh.noaa.gov/wrh/metar_decode_key.pdf for more info on the METAR data format\n",
      "\n",
      "### Instructions\n",
      "#### Step One\n",
      "Run the next cell and use the embedded FAA webpage to find an airport with an ASOS weather station (select your state and look for the grey markers)\n",
      "\n",
      "#### Step Two\n",
      "Click the grey marker you like and make note of its call sign (e.g., Portland is 'KPDX')\n",
      "\n",
      "#### Step Three\n",
      "In the cell below the embedded webpage, define the variables `station_id`, `startdate`, and `enddate`. The variable `station_id` is the call sign for your station. Using Portland as an example, the cell should look like this:\n",
      "\n",
      "    station_id = 'KPDX'\n",
      "    startdate = '2000-1-1'\n",
      "    enddate = 'September 30, 2012'\n",
      "\n",
      "Note that you can mix the formats of the dates. The data analysis fairy knows what to do.\n",
      "\n",
      "Run that cell and follow the remaining instructions above the subsequent cells."
     ]
    },
    {
     "cell_type": "markdown",
     "metadata": {},
     "source": [
      "#### Cell for Steps One and Two"
     ]
    },
    {
     "cell_type": "code",
     "collapsed": false,
     "input": [
      "from __future__ import division\n",
      "import os\n",
      "import datetime\n",
      "\n",
      "import numpy as np\n",
      "import pandas\n",
      "import statsmodels.api as sm\n",
      "\n",
      "import matplotlib\n",
      "matplotlib.rcParams['savefig.dpi'] = 144\n",
      "matplotlib.rcParams['timezone'] = 'US/Pacific'\n",
      "import matplotlib.pyplot as plt\n",
      "import matplotlib.dates as mdates\n",
      "\n",
      "import metar.Station as Station\n",
      "reload(Station)\n",
      "import metar.Graphics as Graphics\n",
      "reload(Graphics)\n",
      "\n",
      "#import statsmodels.api as sm\n",
      "from IPython.display import HTML, Javascript, display, clear_output\n",
      "import uuid, time\n",
      "divid = str(uuid.uuid4())\n",
      "\n",
      "HTML('<iframe src=http://www.faa.gov/air_traffic/weather/asos/?state=OR width=700 height=500>')"
     ],
     "language": "python",
     "metadata": {},
     "outputs": []
    },
    {
     "cell_type": "markdown",
     "metadata": {},
     "source": [
      "#### Cell for Step Three (analysis inputs here)"
     ]
    },
    {
     "cell_type": "code",
     "collapsed": false,
     "input": [
      "def getASOSdata(sta, startdate, enddate):\n",
      "    station = Station.station(station_id)\n",
      "    start = Station._parse_date(startdate)\n",
      "    end = Station._parse_date(enddate)\n",
      "    timestamps = pandas.DatetimeIndex(start=start, end=end, freq='MS')\n",
      "    data = None\n",
      "    N = len(timestamps)\n",
      "    for n, ts in enumerate(timestamps):\n",
      "        if data is None:\n",
      "            data = sta._read_csv(ts, 'asos')\n",
      "        else:\n",
      "            data = data.append(sta._read_csv(ts, 'asos'))\n",
      "        pc = (n+1)*100/N\n",
      "        clear_output()\n",
      "        print('%0.1f%% complete' % pc)\n",
      "            \n",
      "    return data"
     ],
     "language": "python",
     "metadata": {},
     "outputs": []
    },
    {
     "cell_type": "markdown",
     "metadata": {},
     "source": [
      "#### This is the cell that downloads, parses, and compiles data"
     ]
    },
    {
     "cell_type": "code",
     "collapsed": true,
     "input": [
      "station_id = 'KNYC'\n",
      "startdate = '2003-9-1'\n",
      "enddate = 'September 30, 2004'\n",
      "sta = Station.getStationByID(station_id)\n",
      "data = getASOSdata(sta, startdate, enddate)\n",
      "data.columns"
     ],
     "language": "python",
     "metadata": {},
     "outputs": []
    },
    {
     "cell_type": "markdown",
     "metadata": {},
     "source": [
      "#### Pull out the 5-minute rainfall data as a `TimeSeries` object"
     ]
    },
    {
     "cell_type": "code",
     "collapsed": false,
     "input": [
      "rain = data['Precip']"
     ],
     "language": "python",
     "metadata": {},
     "outputs": []
    },
    {
     "cell_type": "markdown",
     "metadata": {},
     "source": [
      "#### This cell plots 5-min, hourly, daily, and monthly rainfall depths"
     ]
    },
    {
     "cell_type": "code",
     "collapsed": false,
     "input": [
      "# set up the figures\n",
      "reload(Graphics)\n",
      "fig, ((ax1, ax2), (ax3, ax4)) = plt.subplots(nrows=2, ncols=2, figsize=(8,8))\n",
      "\n",
      "# 5-min\n",
      "Graphics.hyetograph(rain, freq='5-min', ax=ax1)\n",
      "Graphics.hyetograph(rain, freq='hourly', ax=ax2)\n",
      "Graphics.hyetograph(rain, freq='weekly', ax=ax3)\n",
      "Graphics.hyetograph(rain, freq='daily', ax=ax4)\n",
      "for ax in [ax1, ax2, ax3, ax4]:\n",
      "    ax.tick_params(axis='y', labelsize=8)\n",
      "    ax.tick_params(axis='x', labelsize=8)"
     ],
     "language": "python",
     "metadata": {},
     "outputs": []
    },
    {
     "cell_type": "markdown",
     "metadata": {},
     "source": [
      "#### Histogram of hourly totals"
     ]
    },
    {
     "cell_type": "code",
     "collapsed": false,
     "input": [
      "fig, ax7 = plt.subplots()\n",
      "number_of_bins = 20\n",
      "hourlytotals = rain.resample(how='sum', rule='H')\n",
      "perc_freq, bins = np.histogram(hourlytotals.dropna(), bins=np.logspace(-2.0, 0.3, 25), density=True)\n",
      "bar_width = bins[1:] - bins[:-1]\n",
      "\n",
      "ax7.bar(bins[:-1], perc_freq, width=bar_width, bottom=10**-3, alpha=0.65, color='DodgerBlue')\n",
      "ax7.set_yscale('log')\n",
      "ax7.set_xscale('log')\n",
      "ax7.set_xlabel('Hourly Rainfall Depth (in)')\n",
      "ax7.set_ylabel('Relative Frequency')\n",
      "ax7.xaxis.set_tick_params(direction='out', which='both')\n",
      "ax7.yaxis.set_tick_params(direction='out', which='both')"
     ],
     "language": "python",
     "metadata": {},
     "outputs": []
    },
    {
     "cell_type": "markdown",
     "metadata": {},
     "source": [
      "#### Rainfall clock\n",
      "This is a fun little function I wrote to show the relative probability that it might rain at any given time."
     ]
    },
    {
     "cell_type": "code",
     "collapsed": false,
     "input": [
      "fig, axes = Graphics.rainClock(rain)"
     ],
     "language": "python",
     "metadata": {},
     "outputs": []
    },
    {
     "cell_type": "markdown",
     "metadata": {},
     "source": [
      "You can also select out data from a given month from all years"
     ]
    },
    {
     "cell_type": "code",
     "collapsed": false,
     "input": [
      "months = rain.index.month\n",
      "october_selector = (months == 10)\n",
      "fig, axes = Graphics.rainClock(rain[october_selector])\n",
      "fig.suptitle('NYC in October', fontsize='18')"
     ],
     "language": "python",
     "metadata": {},
     "outputs": []
    },
    {
     "cell_type": "markdown",
     "metadata": {},
     "source": [
      "#### Wind Rose\n",
      "(bars show direction from which the wind blows)"
     ]
    },
    {
     "cell_type": "code",
     "collapsed": false,
     "input": [
      "fig, ax = Graphics.windRose(data)"
     ],
     "language": "python",
     "metadata": {},
     "outputs": []
    }
   ],
   "metadata": {}
  }
 ]
}